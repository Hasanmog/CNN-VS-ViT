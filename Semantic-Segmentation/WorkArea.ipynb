{
 "cells": [
  {
   "cell_type": "code",
   "execution_count": null,
   "metadata": {},
   "outputs": [],
   "source": [
    "import matplotlib.pyplot as plt \n",
    "import torch \n",
    "import torch.nn as nn\n",
    "from torchsummary import summary\n",
    "from torch.utils.data import DataLoader\n",
    "from torchvision import transforms\n",
    "from torchvision.transforms import ToTensor\n",
    "from dataloader import WHU_bldg\n",
    "from Model import Unet\n",
    "from engine import train_one_epoch"
   ]
  },
  {
   "cell_type": "code",
   "execution_count": null,
   "metadata": {},
   "outputs": [],
   "source": [
    "# HYPERPARAMETERS\n",
    "\n",
    "device = 'cuda' if torch.cuda.is_available() else 'cpu'\n",
    "print('device:' , device)\n",
    "\n",
    "BATCH_SIZE = 8\n",
    "EPOCHS = 30\n",
    "lr = 0.001\n",
    "out_size = 324"
   ]
  },
  {
   "cell_type": "code",
   "execution_count": null,
   "metadata": {},
   "outputs": [],
   "source": [
    "def unnormalize(tensor):\n",
    "    \n",
    "    mean=[0.485, 0.456, 0.406]\n",
    "    std=[0.229, 0.224, 0.225] \n",
    "    mean = torch.tensor(mean).reshape(-1, 1, 1)\n",
    "    std = torch.tensor(std).reshape(-1, 1, 1)\n",
    "    tensor = tensor * std + mean\n",
    "    return tensor"
   ]
  },
  {
   "cell_type": "code",
   "execution_count": null,
   "metadata": {},
   "outputs": [],
   "source": [
    "dataset_dir = \"/dataset/deepglobe-2018-road-extraction\"\n",
    "\n",
    "transform_rgb = transforms.Compose([\n",
    "    transforms.PILToTensor(),\n",
    "    transforms.ConvertImageDtype(torch.float32),  # Converts the tensor to float and scales to [0.0, 1.0]\n",
    "    transforms.Resize((512 , 512)),\n",
    "    transforms.Normalize(mean=[0.485, 0.456, 0.406], std=[0.229, 0.224, 0.225])  # Example normalization\n",
    "])\n",
    "\n",
    "transform_grey = transforms.Compose([\n",
    "    transforms.PILToTensor(),\n",
    "    transforms.Resize((out_size, out_size), interpolation=transforms.InterpolationMode.NEAREST),\n",
    "    transforms.ConvertImageDtype(torch.float32)  # Ensures masks are also floats if needed for specific loss calculations\n",
    "])\n"
   ]
  },
  {
   "cell_type": "code",
   "execution_count": null,
   "metadata": {},
   "outputs": [],
   "source": [
    "train = WHU_bldg(parent_dir = \"dataset\" , set = \"train\" , transform_rgb= transform_rgb , transform_grey = transform_grey)\n",
    "val = WHU_bldg(parent_dir = \"dataset\" , set = \"val\" , transform_rgb= transform_rgb , transform_grey = transform_grey)\n",
    "test = WHU_bldg(parent_dir = \"dataset\" , set = \"test\" , transform_rgb= transform_rgb , transform_grey = transform_grey)"
   ]
  },
  {
   "cell_type": "markdown",
   "metadata": {},
   "source": [
    "Display a sample"
   ]
  },
  {
   "cell_type": "code",
   "execution_count": null,
   "metadata": {},
   "outputs": [],
   "source": [
    "image , mask = train[10]\n",
    "image = unnormalize(image)\n",
    "\n",
    "image = image.permute(1 , 2, 0).numpy()\n",
    "mask = mask.squeeze().numpy()\n",
    "image.shape , mask.shape"
   ]
  },
  {
   "cell_type": "code",
   "execution_count": null,
   "metadata": {},
   "outputs": [],
   "source": [
    "plt.figure(figsize=(10,5))\n",
    "\n",
    "plt.subplot(1 , 2 , 1)\n",
    "plt.imshow(image)\n",
    "plt.title('Image')\n",
    "plt.axis('off')\n",
    "\n",
    "plt.subplot(1,2,2)\n",
    "plt.imshow(mask , cmap = 'gray')\n",
    "plt.title('gt_mask')\n",
    "plt.axis('off')\n",
    "\n",
    "plt.show()"
   ]
  },
  {
   "cell_type": "code",
   "execution_count": null,
   "metadata": {},
   "outputs": [],
   "source": [
    "train_loader = DataLoader(dataset = train , batch_size = BATCH_SIZE , shuffle= True)\n",
    "val_loader = DataLoader(dataset = val , batch_size = BATCH_SIZE , shuffle = True)\n",
    "test_loader = DataLoader(dataset = test , shuffle = False)\n",
    "\n",
    "len(train_loader) , len(val_loader) # batches"
   ]
  },
  {
   "cell_type": "code",
   "execution_count": null,
   "metadata": {},
   "outputs": [],
   "source": [
    "model = Unet().to(device)\n",
    "\n",
    "summary(model , input_size=( 3 , 512 , 512))\n"
   ]
  },
  {
   "cell_type": "code",
   "execution_count": null,
   "metadata": {},
   "outputs": [],
   "source": [
    "metrics = train_one_epoch(model = model , \n",
    "                          train_loader = train_loader , \n",
    "                          val_loader = val_loader , \n",
    "                          epochs  = EPOCHS , \n",
    "                          lr = lr , \n",
    "                          scheduler = 'exponential' , \n",
    "                          out_dir = 'weights' , \n",
    "                          device = device)"
   ]
  }
 ],
 "metadata": {
  "kernelspec": {
   "display_name": "paper2code",
   "language": "python",
   "name": "python3"
  },
  "language_info": {
   "codemirror_mode": {
    "name": "ipython",
    "version": 3
   },
   "file_extension": ".py",
   "mimetype": "text/x-python",
   "name": "python",
   "nbconvert_exporter": "python",
   "pygments_lexer": "ipython3",
   "version": "3.10.12"
  }
 },
 "nbformat": 4,
 "nbformat_minor": 2
}
