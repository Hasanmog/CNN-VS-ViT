{
 "cells": [
  {
   "cell_type": "code",
   "execution_count": null,
   "metadata": {},
   "outputs": [],
   "source": [
    "import json\n",
    "import os\n",
    "import torch\n",
    "import matplotlib.pyplot as plt \n",
    "import numpy as np\n",
    "import pandas as pd\n",
    "import torch.nn as nn\n",
    "from torchsummary import summary\n",
    "from utils import  format_for_display \n",
    "from DataLoader import EuroSAT , UC_MERCED , custom_collate_fn\n",
    "from engine import train_one_epoch , test_one_epoch\n",
    "from torchvision import  transforms\n",
    "from torchvision.transforms import ToTensor\n"
   ]
  },
  {
   "cell_type": "code",
   "execution_count": null,
   "metadata": {},
   "outputs": [],
   "source": [
    "# Hyperparameters\n",
    "train_transform = transforms.Compose([\n",
    "    transforms.Resize((256,256)) , \n",
    "    transforms.RandomHorizontalFlip(p=0.5),  # Flip half of the images\n",
    "    transforms.RandomRotation(degrees=15),  # Rotate images between -15 and +15 degrees\n",
    "    transforms.ColorJitter(brightness=0.2, contrast=0.2, saturation=0.2, hue=0.1),\n",
    "    transforms.ToTensor(),  # Convert image to tensor\n",
    "    transforms.Normalize(mean=[0.485, 0.456, 0.406], std=[0.229, 0.224, 0.225])   \n",
    "])\n",
    "test_transform = transforms.Compose([\n",
    "    transforms.Resize((256,256)) , \n",
    "    transforms.ToTensor(),  # Convert image to tensor\n",
    "    transforms.Normalize(mean=[0.485, 0.456, 0.406], std=[0.229, 0.224, 0.225])   \n",
    "])\n",
    "BATCH_SIZE = 4 \n",
    "LR = 0.0001\n",
    "Epochs = 50\n",
    "device = 'cuda' if torch.cuda.is_available() else \"cpu\"\n",
    "device\n"
   ]
  },
  {
   "cell_type": "markdown",
   "metadata": {},
   "source": [
    "Dataset Prep --> **EUROSAT**"
   ]
  },
  {
   "cell_type": "code",
   "execution_count": null,
   "metadata": {},
   "outputs": [],
   "source": [
    "train_csv = pd.read_csv(\"../Datasets/EuroSAT/EuroSAT/train.csv\" , index_col = 0)\n",
    "test_csv = pd.read_csv(\"../Datasets/EuroSAT/EuroSAT/test.csv\" , index_col = 0)\n",
    "val_csv = pd.read_csv(\"../Datasets/EuroSAT/EuroSAT/validation.csv\" , index_col = 0)\n",
    "\n",
    "train_csv = train_csv.sort_values(axis = 0 , by = ['ClassName'])\n",
    "test_csv = test_csv.sort_values(axis = 0 , by = ['ClassName'])\n",
    "val_csv = val_csv.sort_values(axis = 0 , by = ['ClassName'])"
   ]
  },
  {
   "cell_type": "code",
   "execution_count": null,
   "metadata": {},
   "outputs": [],
   "source": [
    "with open(\"../Datasets/EuroSAT/EuroSAT/label_map.json\" , 'r') as file:\n",
    "    labels = json.load(file)\n",
    "    class_names = list(labels.keys())\n",
    "class_names "
   ]
  },
  {
   "cell_type": "code",
   "execution_count": null,
   "metadata": {},
   "outputs": [],
   "source": [
    "train_set = []\n",
    "test_set = []\n",
    "val_set = []\n",
    "sets = [train_csv , val_csv , test_csv]\n",
    "\n",
    "for i , set in enumerate(sets):\n",
    "    if i == 0:\n",
    "        for index, row in set.iterrows():\n",
    "            train_set.append(list(row))\n",
    "    elif i == 2:\n",
    "        for index, row in set.iterrows():\n",
    "            test_set.append(list(row))\n",
    "            \n",
    "    else: \n",
    "        for index, row in set.iterrows():\n",
    "            val_set.append(list(row))           "
   ]
  },
  {
   "cell_type": "code",
   "execution_count": null,
   "metadata": {},
   "outputs": [],
   "source": [
    "train = EuroSAT(parent_dir = \"../Datasets/EuroSAT/EuroSAT/\" , data = train_set , transform = transform)\n",
    "val = EuroSAT(parent_dir = \"../Datasets/EuroSAT/EuroSAT/\" , data = val_set , transform = transform)\n",
    "test = EuroSAT(parent_dir = \"../Datasets/EuroSAT/EuroSAT/\" , data = test_set , transform = transform)\n",
    "\n",
    "len(train) , len(val) , len(test)"
   ]
  },
  {
   "cell_type": "code",
   "execution_count": null,
   "metadata": {},
   "outputs": [],
   "source": [
    "train_loader = torch.utils.data.DataLoader(train , shuffle = True , batch_size=BATCH_SIZE)\n",
    "val_loader = torch.utils.data.DataLoader(val , shuffle = True , batch_size=BATCH_SIZE)\n",
    "test_loader = torch.utils.data.DataLoader(test, shuffle = True , batch_size=BATCH_SIZE)\n",
    "\n",
    "len(train_loader) , len(val_loader)  , len(test_loader)"
   ]
  },
  {
   "cell_type": "markdown",
   "metadata": {},
   "source": [
    "Dataset Prep **UC-MERCED**"
   ]
  },
  {
   "cell_type": "code",
   "execution_count": null,
   "metadata": {},
   "outputs": [],
   "source": [
    "class_to_idx = {\n",
    "    'Agricultural': 0,\n",
    "    'Airplane' : 1 ,\n",
    "    'Baseball diamond' : 2,\n",
    "    'Beach' : 3,\n",
    "    'Buildings' : 4,\n",
    "    'Chaparral' : 5,\n",
    "    'Dense residential' : 6,\n",
    "    'Forest' : 7 , \n",
    "    'Freeway' : 8,\n",
    "    'Golf course' : 9,\n",
    "    'Harbor' : 10,\n",
    "    'Intersection' : 11,\n",
    "    'Medium residential' : 12,\n",
    "    'Mobile home park' : 13,\n",
    "    'Overpass' : 14,\n",
    "    'Parking lot' : 15,\n",
    "    'River' : 16,\n",
    "    'Runway' : 17,\n",
    "    'Sparse residential' : 18,\n",
    "    'Storage tanks' : 19,\n",
    "    'Tennis court' : 20\n",
    "    }\n",
    "class_names = ['Agricultural', 'Airplane', 'Baseball diamond', 'Beach', 'Buildings', 'Chaparral', 'Dense residential', 'Forest', 'Freeway',\n",
    "               'Golf course', 'Harbor', 'Intersection', 'Medium residential', 'Mobile home park', 'Overpass', 'Parking lot', 'River',\n",
    "               'Runway', 'Sparse residential', 'Storage tanks', 'Tennis court']"
   ]
  },
  {
   "cell_type": "code",
   "execution_count": null,
   "metadata": {},
   "outputs": [],
   "source": [
    "train = UC_MERCED(parent_dir = \"../Datasets/UC-MERCED/UCMerced_LandUse/Images/train\" , transform = train_transform)\n",
    "val = UC_MERCED(parent_dir = \"../Datasets/UC-MERCED/UCMerced_LandUse/Images/val\" , transform = train_transform)\n",
    "test = UC_MERCED(parent_dir = \"../Datasets/UC-MERCED/UCMerced_LandUse/Images/test\" , transform = test_transform)\n",
    "print(len(train) , len(test) , len(val))\n",
    "\n",
    "train_loader = torch.utils.data.DataLoader(train , shuffle = True , batch_size=BATCH_SIZE , collate_fn=custom_collate_fn )\n",
    "val_loader = torch.utils.data.DataLoader(val , shuffle = True , batch_size=BATCH_SIZE , collate_fn=custom_collate_fn)\n",
    "test_loader = torch.utils.data.DataLoader(test, shuffle = False , batch_size=8 , collate_fn=custom_collate_fn)\n",
    "print(len(train_loader) , len(test_loader) , len(val_loader))"
   ]
  },
  {
   "cell_type": "markdown",
   "metadata": {},
   "source": [
    "Visualize some samples"
   ]
  },
  {
   "cell_type": "code",
   "execution_count": null,
   "metadata": {},
   "outputs": [],
   "source": [
    "train_iter = iter(train_loader)\n",
    "batch = 7\n",
    "for batch_no in range(batch):\n",
    "    first_batch = next(train_iter)\n",
    "    images , labels  = first_batch\n",
    "\n",
    "images.shape , labels\n"
   ]
  },
  {
   "cell_type": "code",
   "execution_count": null,
   "metadata": {},
   "outputs": [],
   "source": [
    "formatted_images = format_for_display(images)\n",
    "    \n",
    "images[0].shape , formatted_images[0].shape"
   ]
  },
  {
   "cell_type": "code",
   "execution_count": null,
   "metadata": {},
   "outputs": [],
   "source": [
    "nrows = 2\n",
    "ncolumns = 4\n",
    "fig, axs = plt.subplots(nrows, ncolumns, figsize=(15, 6))\n",
    "\n",
    "# Flatten the axs array to simplify accessing individual subplots\n",
    "axs = axs.flatten()\n",
    "\n",
    "for i in range(len(images)):\n",
    "    ax = axs[i]  # Access the individual subplot\n",
    "    ax.imshow(formatted_images[i])  # Display the image\n",
    "    ax.set_title(class_names[labels[i]])  # Set the title to the class name of the image\n",
    "    ax.axis('off')  # Hide the axis\n",
    "\n",
    "plt.show()"
   ]
  },
  {
   "cell_type": "markdown",
   "metadata": {},
   "source": [
    "NN using Pytorch library"
   ]
  },
  {
   "cell_type": "code",
   "execution_count": null,
   "metadata": {},
   "outputs": [],
   "source": [
    "pwd"
   ]
  },
  {
   "cell_type": "code",
   "execution_count": null,
   "metadata": {},
   "outputs": [],
   "source": [
    "from Model import NN_1 , NN_2 , NN_3 , NN_4\n",
    "\n",
    "model = NN_4().to(device)\n",
    "optimizer = torch.optim.Adam(model.parameters() , lr = LR)\n",
    "cross_entropy = torch.nn.CrossEntropyLoss()\n",
    "scheduler = \"exponential\"\n",
    "if scheduler == \"onecyclelr\":\n",
    "    lr_scheduler = torch.optim.lr_scheduler.OneCycleLR(optimizer, max_lr=LR, steps_per_epoch=len(train_loader), epochs=Epochs, pct_start=0.2)\n",
    "elif scheduler == \"multi_step_lr\":\n",
    "    lr_drop_list = [4, 8]\n",
    "    lr_scheduler = torch.optim.lr_scheduler.MultiStepLR(optimizer, milestones=lr_drop_list)\n",
    "elif scheduler == \"step_lr\":\n",
    "    step_size = 10\n",
    "    gamma = 0.5\n",
    "    lr_scheduler = torch.optim.lr_scheduler.StepLR(optimizer, step_size = step_size , gamma = gamma)\n",
    "else:\n",
    "    gamma = 0.98\n",
    "    lr_scheduler = torch.optim.lr_scheduler.ExponentialLR(optimizer , gamma)\n",
    "summary(model , input_size=( 3 , 256 , 256))"
   ]
  },
  {
   "cell_type": "code",
   "execution_count": null,
   "metadata": {},
   "outputs": [],
   "source": [
    "out_dir = 'weights/best_checkpoint.pth'\n",
    "train_loss , val_loss , current_lr = train_one_epoch(model ,\n",
    "                                     training_loader=train_loader ,\n",
    "                                     validation_loader = val_loader ,\n",
    "                                     optimizer=optimizer ,\n",
    "                                     lr_scheduler = lr_scheduler , \n",
    "                                     epochs = Epochs , \n",
    "                                     loss_func = cross_entropy ,\n",
    "                                     lora = False , \n",
    "                                     device = device ,\n",
    "                                     out_dir = out_dir ,\n",
    "                                     resume = False) "
   ]
  },
  {
   "cell_type": "code",
   "execution_count": null,
   "metadata": {},
   "outputs": [],
   "source": [
    "checkpoint = torch.load(\"weights/best_checkpoint.pth\")\n",
    "model.load_state_dict(checkpoint['model_state_dict'])\n",
    "optimizer.load_state_dict(checkpoint['optimizer_state_dict'])\n",
    "\n",
    "model.eval()\n",
    "model.to(device)\n",
    "test_loss = test_one_epoch(model = model , test_loader= test_loader , loss_func=cross_entropy , device = device)"
   ]
  },
  {
   "cell_type": "code",
   "execution_count": null,
   "metadata": {},
   "outputs": [],
   "source": [
    "test_iter = iter(test_loader)\n",
    "batch_no = 8\n",
    "for batch in range(batch_no):\n",
    "    first_batch = next(test_iter)\n",
    "    images , labels  = first_batch\n",
    "    images = images.to(device)\n",
    "with torch.no_grad():\n",
    "    logits = model(images).to('cpu')\n",
    "logits = logits.numpy()\n",
    "pred_classes = np.argmax(logits, axis=1)\n",
    "pred_classes , labels"
   ]
  },
  {
   "cell_type": "code",
   "execution_count": null,
   "metadata": {},
   "outputs": [],
   "source": [
    "images = images.to('cpu')\n",
    "formatted_images  = format_for_display(images)\n",
    "nrows = 2\n",
    "ncolumns = 4\n",
    "fig, axs = plt.subplots(nrows, ncolumns, figsize=(15, 6))\n",
    "\n",
    "axs = axs.flatten()\n",
    "for i in range(len(formatted_images)):\n",
    "    ax = axs[i]  # Access the individual subplot\n",
    "    ax.imshow(formatted_images[i]) \n",
    "    title = f'Predicted: {class_names[pred_classes[i]]}\\nGT: {class_names[labels[i].item()]}'\n",
    "    ax.set_title(title)\n",
    "    ax.axis('off') \n",
    "\n",
    "\n",
    "plt.show()\n"
   ]
  }
 ],
 "metadata": {
  "kernelspec": {
   "display_name": "paper2code",
   "language": "python",
   "name": "python3"
  },
  "language_info": {
   "codemirror_mode": {
    "name": "ipython",
    "version": 3
   },
   "file_extension": ".py",
   "mimetype": "text/x-python",
   "name": "python",
   "nbconvert_exporter": "python",
   "pygments_lexer": "ipython3",
   "version": "3.10.12"
  }
 },
 "nbformat": 4,
 "nbformat_minor": 2
}
