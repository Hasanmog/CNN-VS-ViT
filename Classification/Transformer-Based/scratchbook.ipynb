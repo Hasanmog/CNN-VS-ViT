{
 "cells": [
  {
   "cell_type": "code",
   "execution_count": 1,
   "metadata": {},
   "outputs": [],
   "source": [
    "import torch"
   ]
  },
  {
   "cell_type": "code",
   "execution_count": 2,
   "metadata": {},
   "outputs": [],
   "source": [
    "img = torch.rand(1 , 3 , 256 ,256)"
   ]
  },
  {
   "cell_type": "code",
   "execution_count": 4,
   "metadata": {},
   "outputs": [],
   "source": [
    "from Vit import Patch_Embed\n",
    "\n",
    "Patching = Patch_Embed(p = 8 , proj_dim= 1024 , max_patches=100000)\n",
    "\n",
    "patches = Patching(img)"
   ]
  },
  {
   "cell_type": "code",
   "execution_count": 5,
   "metadata": {},
   "outputs": [
    {
     "data": {
      "text/plain": [
       "torch.Size([1, 1024, 1024])"
      ]
     },
     "execution_count": 5,
     "metadata": {},
     "output_type": "execute_result"
    }
   ],
   "source": [
    "patches.shape"
   ]
  },
  {
   "cell_type": "code",
   "execution_count": 7,
   "metadata": {},
   "outputs": [
    {
     "data": {
      "text/plain": [
       "Parameter containing:\n",
       "tensor([[-0.0399, -0.0415,  0.0390,  ...,  0.0262,  0.0222, -0.0488],\n",
       "        [ 0.0466, -0.0438, -0.0329,  ...,  0.0476,  0.0432,  0.0539],\n",
       "        [ 0.0541,  0.0161,  0.0070,  ...,  0.0276,  0.0327, -0.0500],\n",
       "        ...,\n",
       "        [-0.0189, -0.0368, -0.0013,  ..., -0.0228, -0.0374, -0.0113],\n",
       "        [-0.0503,  0.0048, -0.0493,  ..., -0.0137,  0.0532, -0.0158],\n",
       "        [ 0.0187,  0.0066, -0.0149,  ...,  0.0124,  0.0443, -0.0094]],\n",
       "       requires_grad=True)"
      ]
     },
     "execution_count": 7,
     "metadata": {},
     "output_type": "execute_result"
    }
   ],
   "source": [
    "import torch.nn as nn\n",
    "from torch.nn.init import xavier_uniform_\n",
    "\n",
    "input_dim = patches.shape[-1]\n",
    "out_dim = patches.shape[-1]\n",
    "w_q = nn.Parameter(torch.empty(input_dim , out_dim))\n",
    "w_k = nn.Parameter(torch.empty(input_dim , out_dim))\n",
    "w_v = nn.Parameter(torch.empty(input_dim , out_dim))\n",
    "\n",
    "xavier_uniform_(w_q)\n",
    "xavier_uniform_(w_k)\n",
    "xavier_uniform_(w_v)"
   ]
  },
  {
   "cell_type": "code",
   "execution_count": 22,
   "metadata": {},
   "outputs": [
    {
     "data": {
      "text/plain": [
       "(torch.Size([1, 1024, 1024]),\n",
       " torch.Size([1, 1024, 1024]),\n",
       " torch.Size([1, 1024, 1024]))"
      ]
     },
     "execution_count": 22,
     "metadata": {},
     "output_type": "execute_result"
    }
   ],
   "source": [
    "V = patches @ w_v.to('cuda')\n",
    "K = patches @ w_k.to('cuda')\n",
    "Q = patches @ w_q.to('cuda')\n",
    "dk = torch.tensor(K.shape[-1], dtype=torch.float32)\n",
    "V.shape , K.shape , Q.shape"
   ]
  },
  {
   "cell_type": "code",
   "execution_count": 25,
   "metadata": {},
   "outputs": [
    {
     "name": "stdout",
     "output_type": "stream",
     "text": [
      "torch.Size([1, 1024, 1024])\n"
     ]
    }
   ],
   "source": [
    "scores  = Q @ K.transpose(-2 , -1)\n",
    "scores = scores / torch.sqrt(dk)\n",
    "attention_scores = torch.softmax(scores , dim = -1)\n",
    "print(attention_scores.shape)\n",
    "out = attention_scores @ V"
   ]
  },
  {
   "cell_type": "code",
   "execution_count": 26,
   "metadata": {},
   "outputs": [
    {
     "data": {
      "text/plain": [
       "torch.Size([1, 1024, 1024])"
      ]
     },
     "execution_count": 26,
     "metadata": {},
     "output_type": "execute_result"
    }
   ],
   "source": [
    "out.shape"
   ]
  },
  {
   "cell_type": "code",
   "execution_count": null,
   "metadata": {},
   "outputs": [],
   "source": []
  }
 ],
 "metadata": {
  "kernelspec": {
   "display_name": "CNN-VS-ViT",
   "language": "python",
   "name": "python3"
  },
  "language_info": {
   "codemirror_mode": {
    "name": "ipython",
    "version": 3
   },
   "file_extension": ".py",
   "mimetype": "text/x-python",
   "name": "python",
   "nbconvert_exporter": "python",
   "pygments_lexer": "ipython3",
   "version": "3.10.12"
  }
 },
 "nbformat": 4,
 "nbformat_minor": 2
}
