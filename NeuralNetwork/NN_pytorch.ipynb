{
 "cells": [
  {
   "cell_type": "code",
   "execution_count": 56,
   "metadata": {},
   "outputs": [],
   "source": [
    "import json\n",
    "import os\n",
    "import torch\n",
    "import matplotlib.pyplot as plt \n",
    "import numpy as np\n",
    "import pandas as pd\n",
    "import scipy\n",
    "from torchvision import datasets , transforms\n",
    "from torchvision.transforms import ToTensor\n"
   ]
  },
  {
   "cell_type": "code",
   "execution_count": 72,
   "metadata": {},
   "outputs": [],
   "source": [
    "# Hyperparameters\n",
    "\n",
    "BATCH_SIZE = 8 \n",
    "LR = 0.001\n"
   ]
  },
  {
   "cell_type": "markdown",
   "metadata": {},
   "source": [
    "Dataset Prep"
   ]
  },
  {
   "cell_type": "code",
   "execution_count": 65,
   "metadata": {},
   "outputs": [
    {
     "data": {
      "text/plain": [
       "27000"
      ]
     },
     "execution_count": 65,
     "metadata": {},
     "output_type": "execute_result"
    }
   ],
   "source": [
    "import torch.utils\n",
    "\n",
    "\n",
    "transform = transforms.Compose([\n",
    "    ToTensor() , \n",
    "    transforms.Normalize((0.485, 0.456, 0.406), (0.229, 0.224, 0.225)) ,    \n",
    "])\n",
    "\n",
    "eurosat_dataset = datasets.ImageFolder(root = \"EuroSAT\" , transform = transform)\n",
    "\n",
    "len(eurosat_dataset)                                 "
   ]
  },
  {
   "cell_type": "code",
   "execution_count": null,
   "metadata": {},
   "outputs": [],
   "source": [
    "train_csv = pd.read_csv(\"EuroSAT/train.csv\" , index_col = 0)\n",
    "test_csv = pd.read_csv(\"EuroSAT/test.csv\" , index_col = 0)\n",
    "val_csv = pd.read_csv(\"EuroSAT/validation.csv\" , index_col = 0)\n",
    "\n",
    "train_csv = train_csv.sort_values(axis = 0 , by = ['ClassName'])\n",
    "test_csv = test_csv.sort_values(axis = 0 , by = ['ClassName'])\n",
    "val_csv = val_csv.sort_values(axis = 0 , by = ['ClassName'])"
   ]
  },
  {
   "cell_type": "code",
   "execution_count": null,
   "metadata": {},
   "outputs": [],
   "source": [
    "with open(\"EuroSAT/label_map.json\" , 'r') as file:\n",
    "    labels = json.load(file)\n",
    "    keys = list(labels.keys())\n",
    "keys "
   ]
  },
  {
   "cell_type": "code",
   "execution_count": 96,
   "metadata": {},
   "outputs": [],
   "source": [
    "train_set = []\n",
    "test_set = []\n",
    "val_set = []\n",
    "sets = [train_csv , val_csv , test_csv]\n",
    "\n",
    "for i , set in enumerate(sets):\n",
    "    if i == 0:\n",
    "        for index, row in set.iterrows():\n",
    "            train_set.append(list(row))\n",
    "    elif i == 2:\n",
    "        for index, row in set.iterrows():\n",
    "            test_set.append(list(row))\n",
    "            \n",
    "    else: \n",
    "        for index, row in set.iterrows():\n",
    "            val_set.append(list(row))           "
   ]
  },
  {
   "cell_type": "code",
   "execution_count": 95,
   "metadata": {},
   "outputs": [
    {
     "name": "stdout",
     "output_type": "stream",
     "text": [
      "['AnnualCrop/AnnualCrop_142.jpg', 0, 'AnnualCrop']\n"
     ]
    }
   ],
   "source": [
    "print(train_set[0])"
   ]
  },
  {
   "cell_type": "code",
   "execution_count": 98,
   "metadata": {},
   "outputs": [
    {
     "data": {
      "text/plain": [
       "(2363, 338, 338)"
      ]
     },
     "execution_count": 98,
     "metadata": {},
     "output_type": "execute_result"
    }
   ],
   "source": [
    "transform = transforms.Compose([\n",
    "    ToTensor() , \n",
    "    transforms.Normalize((0.485, 0.456, 0.406), (0.229, 0.224, 0.225)) ,    \n",
    "])\n",
    "# Create a class to read images \n",
    "eurosat_dataset = \n",
    "\n",
    "\n",
    "\n",
    "\n",
    "train = torch.utils.data.DataLoader(train_set , shuffle= True , batch_size= BATCH_SIZE )\n",
    "val = torch.utils.data.DataLoader(val_set , shuffle = True , batch_size = BATCH_SIZE)\n",
    "test = val = torch.utils.data.DataLoader(test_set , shuffle = False , batch_size = BATCH_SIZE )\n",
    "\n",
    "len(train) , len(val) , len(test) # batches"
   ]
  },
  {
   "cell_type": "markdown",
   "metadata": {},
   "source": [
    "Visualize some samples"
   ]
  },
  {
   "cell_type": "code",
   "execution_count": 100,
   "metadata": {},
   "outputs": [
    {
     "data": {
      "text/plain": [
       "tensor([8, 2, 9, 6, 9, 8, 0, 4])"
      ]
     },
     "execution_count": 100,
     "metadata": {},
     "output_type": "execute_result"
    }
   ],
   "source": [
    "train_iter = iter(train)\n",
    "first_batch = next(train_iter)\n",
    "image_dir , label , class_name = first_batch\n",
    "\n",
    "features"
   ]
  },
  {
   "cell_type": "markdown",
   "metadata": {},
   "source": [
    "NN From Scratch"
   ]
  },
  {
   "cell_type": "code",
   "execution_count": null,
   "metadata": {},
   "outputs": [],
   "source": [
    "class NeuralNetwork:\n",
    "    def __init__(self , input_dim , hidden_dim , output_dim , loss_function = 'mse'):\n",
    "        self.input_dim = input_dim\n",
    "        self.hidden_dim = hidden_dim \n",
    "        self.output_size = output_dim\n",
    "        self.loss_func = loss_function\n",
    "        \n",
    "        self.w1 = np.random.randn(self.input_dim , self.hidden_dim)\n",
    "        self.b1 = np.zeros((1 , self.hidden_dim))\n",
    "        self.w2 = np.random.randn(self.hidden_dim , self.output_dim)\n",
    "        self.b2 = np.zeros((1 , self.output_dim))\n",
    "        \n",
    "    def feedforward(self , x): \n",
    "        self.z1 = np.dot(x , self.w1) + self.b1\n",
    "        self.a1 = torch.sigmoid(self.z1)\n",
    "        self.z2 = np.dot(self.z2 , self.w2) + self.b2\n",
    "        \n",
    "        if self.loss_func == \"binary_cross_entropy\":\n",
    "            self.a2 = torch.softmax(self.z2)\n",
    "            \n",
    "        else : \n",
    "            self.a2 = torch.sigmoid(self.z2)\n",
    "            \n",
    "        return self.a2  \n",
    "    \n",
    "    def backward(self , X , y , learning_rate):\n",
    "        \n",
    "        m = X.shape[0]\n",
    "        \n",
    "        if self.loss_func == \"mse\" or self.loss_func == \"binary_cross_entropy\":\n",
    "            self.dz2 = self.a2 - y # aka loss\n",
    "            \n",
    "        elif self.loss_func == \"log_loss\" : \n",
    "            self.dz2 = -(y/self.a2 - (1-y)/(1-self.a2))\n",
    "            \n",
    "        else:\n",
    "            raise ValueError(\"Invalid Loss Function\")\n",
    "    \n",
    "        # gradients    \n",
    "        self.dw2 = (1 / m) * np.dot(self.a1.T, self.dz2)\n",
    "        self.db2 = (1 / m) * np.sum(self.dz2, axis=0, keepdims=True)\n",
    "        self.dz1 = np.dot(self.dz2, self.weights2.T) * self.sigmoid_derivative(self.a1)\n",
    "        self.dw1 = (1 / m) * np.dot(X.T, self.dz1)\n",
    "        self.db1 = (1 / m) * np.sum(self.dz1, axis=0, keepdims=True)\n",
    "        \n",
    "        # Update\n",
    "        self.weights2 -= learning_rate * self.dw2\n",
    "        self.bias2 -= learning_rate * self.db2\n",
    "        self.weights1 -= learning_rate * self.dw1\n",
    "        self.bias1 -= learning_rate * self.db1     "
   ]
  },
  {
   "cell_type": "markdown",
   "metadata": {},
   "source": [
    "NN using Pytorch library"
   ]
  },
  {
   "cell_type": "markdown",
   "metadata": {},
   "source": []
  }
 ],
 "metadata": {
  "kernelspec": {
   "display_name": "paper2code",
   "language": "python",
   "name": "python3"
  },
  "language_info": {
   "codemirror_mode": {
    "name": "ipython",
    "version": 3
   },
   "file_extension": ".py",
   "mimetype": "text/x-python",
   "name": "python",
   "nbconvert_exporter": "python",
   "pygments_lexer": "ipython3",
   "version": "3.10.12"
  }
 },
 "nbformat": 4,
 "nbformat_minor": 2
}
