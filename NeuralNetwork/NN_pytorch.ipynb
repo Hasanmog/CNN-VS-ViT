{
 "cells": [
  {
   "cell_type": "code",
   "execution_count": null,
   "metadata": {},
   "outputs": [],
   "source": [
    "import json\n",
    "import os\n",
    "import torch\n",
    "import matplotlib.pyplot as plt \n",
    "import numpy as np\n",
    "import pandas as pd\n",
    "import scipy\n",
    "import neptune\n",
    "import torch.nn as nn\n",
    "from tqdm import tqdm\n",
    "from torch.nn.functional import cross_entropy\n",
    "from torchsummary import summary\n",
    "from utils import scale_to_unit_range\n",
    "from DataLoader import EuroSAT\n",
    "from engine import train_one_epoch , test_one_epoch\n",
    "from torchvision import datasets , transforms\n",
    "from torchvision.transforms import ToTensor\n"
   ]
  },
  {
   "cell_type": "code",
   "execution_count": null,
   "metadata": {},
   "outputs": [],
   "source": [
    "# Hyperparameters\n",
    "transform = transforms.Compose([\n",
    "    ToTensor() , \n",
    "    transforms.Normalize((0.485, 0.456, 0.406), (0.229, 0.224, 0.225)) ,    \n",
    "])\n",
    "BATCH_SIZE = 8 \n",
    "LR = 0.001\n",
    "Epochs = 25 \n",
    "device = 'cuda' if torch.cuda.is_available() else \"cpu\"\n",
    "device\n"
   ]
  },
  {
   "cell_type": "markdown",
   "metadata": {},
   "source": [
    "Dataset Prep"
   ]
  },
  {
   "cell_type": "code",
   "execution_count": null,
   "metadata": {},
   "outputs": [],
   "source": [
    "train_csv = pd.read_csv(\"EuroSAT/train.csv\" , index_col = 0)\n",
    "test_csv = pd.read_csv(\"EuroSAT/test.csv\" , index_col = 0)\n",
    "val_csv = pd.read_csv(\"EuroSAT/validation.csv\" , index_col = 0)\n",
    "\n",
    "train_csv = train_csv.sort_values(axis = 0 , by = ['ClassName'])\n",
    "test_csv = test_csv.sort_values(axis = 0 , by = ['ClassName'])\n",
    "val_csv = val_csv.sort_values(axis = 0 , by = ['ClassName'])"
   ]
  },
  {
   "cell_type": "code",
   "execution_count": null,
   "metadata": {},
   "outputs": [],
   "source": [
    "with open(\"EuroSAT/label_map.json\" , 'r') as file:\n",
    "    labels = json.load(file)\n",
    "    class_names = list(labels.keys())\n",
    "class_names "
   ]
  },
  {
   "cell_type": "code",
   "execution_count": null,
   "metadata": {},
   "outputs": [],
   "source": [
    "train_set = []\n",
    "test_set = []\n",
    "val_set = []\n",
    "sets = [train_csv , val_csv , test_csv]\n",
    "\n",
    "for i , set in enumerate(sets):\n",
    "    if i == 0:\n",
    "        for index, row in set.iterrows():\n",
    "            train_set.append(list(row))\n",
    "    elif i == 2:\n",
    "        for index, row in set.iterrows():\n",
    "            test_set.append(list(row))\n",
    "            \n",
    "    else: \n",
    "        for index, row in set.iterrows():\n",
    "            val_set.append(list(row))           "
   ]
  },
  {
   "cell_type": "code",
   "execution_count": null,
   "metadata": {},
   "outputs": [],
   "source": [
    "train = EuroSAT(parent_dir = \"EuroSAT\" , data = train_set , transform = transform)\n",
    "val = EuroSAT(parent_dir = \"EuroSAT\" , data = val_set , transform = transform)\n",
    "test = EuroSAT(parent_dir = \"EuroSAT\" , data = test_set , transform = transform)\n",
    "\n",
    "len(train) , len(val) , len(test)"
   ]
  },
  {
   "cell_type": "code",
   "execution_count": null,
   "metadata": {},
   "outputs": [],
   "source": [
    "train_loader = torch.utils.data.DataLoader(train , shuffle = True , batch_size=BATCH_SIZE)\n",
    "val_loader = torch.utils.data.DataLoader(val , shuffle = True , batch_size=BATCH_SIZE)\n",
    "test_loader = torch.utils.data.DataLoader(test, shuffle = False , batch_size=BATCH_SIZE)\n",
    "\n",
    "len(train_loader) , len(val_loader)  , len(test_loader)"
   ]
  },
  {
   "cell_type": "markdown",
   "metadata": {},
   "source": [
    "Visualize some samples"
   ]
  },
  {
   "cell_type": "code",
   "execution_count": null,
   "metadata": {},
   "outputs": [],
   "source": [
    "train_iter = iter(train_loader)\n",
    "first_batch = next(train_iter)\n",
    "images , labels  = first_batch\n",
    "\n",
    "images.shape , labels.shape"
   ]
  },
  {
   "cell_type": "code",
   "execution_count": null,
   "metadata": {},
   "outputs": [],
   "source": [
    "formatted_images  = []\n",
    "for image in images:\n",
    "    image = image.permute(1 , 2 , 0)\n",
    "    image = scale_to_unit_range(image)\n",
    "    image = image.numpy()\n",
    "    formatted_images.append(image)\n",
    "    \n",
    "images[0].shape , formatted_images[0].shape"
   ]
  },
  {
   "cell_type": "code",
   "execution_count": null,
   "metadata": {},
   "outputs": [],
   "source": [
    "nrows = 2\n",
    "ncolumns = 4\n",
    "fig, axs = plt.subplots(nrows, ncolumns, figsize=(15, 6))\n",
    "\n",
    "# Flatten the axs array to simplify accessing individual subplots\n",
    "axs = axs.flatten()\n",
    "\n",
    "for i in range(len(images)):\n",
    "    ax = axs[i]  # Access the individual subplot\n",
    "    ax.imshow(formatted_images[i])  # Display the image\n",
    "    ax.set_title(class_names[labels[i]])  # Set the title to the class name of the image\n",
    "    ax.axis('off')  # Hide the axis\n",
    "\n",
    "plt.show()"
   ]
  },
  {
   "cell_type": "markdown",
   "metadata": {},
   "source": [
    "NN using Pytorch library"
   ]
  },
  {
   "cell_type": "code",
   "execution_count": null,
   "metadata": {},
   "outputs": [],
   "source": [
    "from Networks.NN_1 import NN_1\n",
    "\n",
    "model = NN_1()"
   ]
  },
  {
   "cell_type": "code",
   "execution_count": null,
   "metadata": {},
   "outputs": [],
   "source": [
    "model = NN_1().to(device)\n",
    "optimizer = torch.optim.Adam(model.parameters() , lr = LR)\n",
    "cross_entropy = torch.nn.CrossEntropyLoss()\n",
    "scheduler = \"exponential\"\n",
    "if scheduler == \"onecyclelr\":\n",
    "    lr_scheduler = torch.optim.lr_scheduler.OneCycleLR(optimizer, max_lr=LR, steps_per_epoch=len(train_loader), epochs=Epochs, pct_start=0.2)\n",
    "elif scheduler == \"multi_step_lr\":\n",
    "    lr_drop_list = [4, 8]\n",
    "    lr_scheduler = torch.optim.lr_scheduler.MultiStepLR(optimizer, milestones=lr_drop_list)\n",
    "elif scheduler == \"step_lr\":\n",
    "    step_size = 10\n",
    "    gamma = 0.5\n",
    "    lr_scheduler = torch.optim.lr_scheduler.StepLR(optimizer, step_size = step_size , gamma = gamma)\n",
    "else:\n",
    "    gamma = 0.95\n",
    "    lr_scheduler = torch.optim.lr_scheduler.ExponentialLR(optimizer , gamma)\n",
    "summary(model , input_size=( 3 , 64 , 64))"
   ]
  },
  {
   "cell_type": "code",
   "execution_count": null,
   "metadata": {},
   "outputs": [],
   "source": [
    "out_dir = 'weights/NN_attempt_1/best_checkpoint.pth'\n",
    "train_loss , val_loss , current_lr = train_one_epoch(model ,\n",
    "                                     training_loader=train_loader ,\n",
    "                                     validation_loader = val_loader ,\n",
    "                                     optimizer=optimizer ,\n",
    "                                     lr_scheduler = lr_scheduler , \n",
    "                                     epochs = Epochs , \n",
    "                                     loss_func = cross_entropy ,\n",
    "                                     device = device ,\n",
    "                                     out_dir = out_dir) "
   ]
  },
  {
   "cell_type": "code",
   "execution_count": null,
   "metadata": {},
   "outputs": [],
   "source": [
    "checkpoint = torch.load(\"weights/NN_attempt_1/best_checkpoint.pth\")\n",
    "model.load_state_dict(checkpoint['model_state_dict'])\n",
    "optimizer.load_state_dict(checkpoint['optimizer_state_dict'])\n",
    "\n",
    "model.eval()\n",
    "model.to(device)\n",
    "test_loss = test_one_epoch(model = model , test_loader= test_loader , loss_func=cross_entropy , device = device)"
   ]
  }
 ],
 "metadata": {
  "kernelspec": {
   "display_name": "paper2code",
   "language": "python",
   "name": "python3"
  },
  "language_info": {
   "codemirror_mode": {
    "name": "ipython",
    "version": 3
   },
   "file_extension": ".py",
   "mimetype": "text/x-python",
   "name": "python",
   "nbconvert_exporter": "python",
   "pygments_lexer": "ipython3",
   "version": "3.10.12"
  }
 },
 "nbformat": 4,
 "nbformat_minor": 2
}
